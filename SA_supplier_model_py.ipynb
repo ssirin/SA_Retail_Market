{
  "nbformat": 4,
  "nbformat_minor": 0,
  "metadata": {
    "colab": {
      "provenance": [],
      "mount_file_id": "1h7GZNKH5Sct1sCeZGxPWhsgMYAabj7Uq",
      "authorship_tag": "ABX9TyPPH4iu1ClI/XOVIs1gWPhD",
      "include_colab_link": true
    },
    "kernelspec": {
      "name": "python3",
      "display_name": "Python 3"
    },
    "language_info": {
      "name": "python"
    }
  },
  "cells": [
    {
      "cell_type": "markdown",
      "metadata": {
        "id": "view-in-github",
        "colab_type": "text"
      },
      "source": [
        "<a href=\"https://colab.research.google.com/github/ssirin/SA_Retail_Market/blob/main/SA_supplier_model_py.ipynb\" target=\"_parent\"><img src=\"https://colab.research.google.com/assets/colab-badge.svg\" alt=\"Open In Colab\"/></a>"
      ]
    },
    {
      "cell_type": "markdown",
      "source": [
        "This code is written to analyze retail electricity market dynamics in Saudi Arabia. The simulation is based on these dynamics:\n",
        "\n",
        "- There is projected demand and the single utility takes projected demand and estimates the prices.\n",
        "- The price is taken by the retailer companies and used to estimate household demand. Households' electricity demand is a function of their demand income. In addition, somehouseholds have distributed energy technologies and storage. Some households are poor and they only have flat tariffs. The others have to choose a retailer and make a contract for a year. After the household demand is estimated the retailers submit to the generation company, and the utility will estimate price again. And this goes until the unserved demand becomes zero.\n"
      ],
      "metadata": {
        "id": "WhEerSZB2dui"
      }
    },
    {
      "cell_type": "code",
      "source": [
        "from google.colab import drive\n",
        "drive.mount('/content/drive')"
      ],
      "metadata": {
        "id": "6fgFuICkr6yt"
      },
      "execution_count": null,
      "outputs": []
    },
    {
      "cell_type": "code",
      "source": [
        "## This function works for generation\n",
        "def estimate_generation_costs_hourly(residential_demand_24h, other_demand_24h, capacity, capacity_factors_24h, costs, voll):\n",
        "    \"\"\"\n",
        "    Estimates hourly generation costs, marginal prices, and unserved demand for a 24-hour period.\n",
        "\n",
        "    Parameters:\n",
        "    - residential_demand_24h: List of residential demand values for each hour.\n",
        "    - other_demand_24h: List of other demand values for each hour.\n",
        "    - capacity: Tuple of capacities for solar, wind, gas, and oil.\n",
        "    - capacity_factors_24h: List of tuples containing solar and wind capacity factors for each hour.\n",
        "    - costs: Tuple of costs for solar, wind, gas (fixed and variable), and oil (fixed and variable).\n",
        "    - voll: Value of lost load (VOLL).\n",
        "    - storage_capacity: Capacity of the storage system in units.\n",
        "    - storage_cost: Variable cost of using the storage system per unit.\n",
        "\n",
        "    Returns:\n",
        "    Tuple containing lists of hourly generation, average price, hourly marginal prices, and hourly unserved demand.\n",
        "    \"\"\"\n",
        "    # Verify input lengths\n",
        "    if not (len(residential_demand_24h) == len(other_demand_24h) == len(capacity_factors_24h) == 24):\n",
        "        raise ValueError(\"Input lists must all contain 24 elements.\")\n",
        "\n",
        "    solar_capacity, wind_capacity, gas_capacity, oil_capacity, storage_capacity = capacity\n",
        "    solar_cost, wind_cost, gas_fixed, gas_variable, oil_fixed, oil_variable,  storage_cost = costs\n",
        "\n",
        "    # Initialize variables for results and storage state\n",
        "    hourly_generation = []\n",
        "    hourly_marginal_price = []\n",
        "    hourly_unserved_demand = []\n",
        "    total_cost = 0\n",
        "    storage_level = 0\n",
        "\n",
        "    # Process each hour\n",
        "    for hour in range(24):\n",
        "        solar_factor, wind_factor = capacity_factors_24h[hour]\n",
        "        demand = residential_demand_24h[hour] + other_demand_24h[hour]\n",
        "\n",
        "        # Calculate renewable generation\n",
        "        solar_generation = solar_capacity * solar_factor\n",
        "        wind_generation = wind_capacity * wind_factor\n",
        "        renewable_generation = solar_generation + wind_generation\n",
        "\n",
        "        if renewable_generation > demand:\n",
        "            # Store excess generation\n",
        "            excess_generation = renewable_generation - demand\n",
        "            storage_space_available = storage_capacity - storage_level\n",
        "            storage_level += min(excess_generation, storage_space_available)\n",
        "            generation = demand\n",
        "            marginal_cost = solar_cost if solar_generation >= wind_generation else wind_cost\n",
        "            unserved_demand = 0\n",
        "        else:\n",
        "            generation = renewable_generation\n",
        "            demand -= renewable_generation\n",
        "            marginal_cost = solar_cost if solar_generation >= wind_generation else wind_cost\n",
        "\n",
        "            # Use storage if needed and available\n",
        "            if storage_level > 0 and demand > 0:\n",
        "                from_storage = min(demand, storage_level)\n",
        "                generation += from_storage\n",
        "                storage_level -= from_storage\n",
        "                demand -= from_storage\n",
        "                marginal_cost = storage_cost\n",
        "\n",
        "            # Use non-renewable sources if still needed\n",
        "            additional_cost, additional_generation, demand, last_marginal_cost = calculate_non_renewable_generation(demand, gas_capacity, oil_capacity, gas_fixed, gas_variable, oil_fixed, oil_variable, voll)\n",
        "            generation += additional_generation\n",
        "            total_cost += additional_cost\n",
        "            if additional_generation > 0:\n",
        "                marginal_cost = last_marginal_cost\n",
        "            unserved_demand = demand\n",
        "\n",
        "        hourly_generation.append(generation)\n",
        "        hourly_marginal_price.append(marginal_cost)\n",
        "        hourly_unserved_demand.append(unserved_demand)\n",
        "\n",
        "    # Calculate total and average costs\n",
        "    total_generation = sum(hourly_generation)\n",
        "    average_price = total_cost / total_generation if total_generation > 0 else voll\n",
        "\n",
        "    return hourly_generation, average_price, hourly_marginal_price, hourly_unserved_demand\n",
        "\n",
        "def calculate_non_renewable_generation(demand, gas_capacity, oil_capacity, gas_fixed, gas_variable, oil_fixed, oil_variable, voll):\n",
        "    \"\"\"\n",
        "    Calculates the generation from non-renewable sources based on demand.\n",
        "\n",
        "    Parameters:\n",
        "    - demand: The remaining demand to be met after considering renewables and storage.\n",
        "    - gas_capacity, oil_capacity: Capacities for gas and oil generation.\n",
        "    - gas_fixed, gas_variable, oil_fixed, oil_variable: Fixed and variable costs for gas and oil.\n",
        "    - voll: Value of Lost Load (VOLL).\n",
        "\n",
        "    Returns:\n",
        "    A tuple of total cost, additional generation, remaining demand, and the marginal cost.\n",
        "    \"\"\"\n",
        "    total_cost = 0\n",
        "    generation = 0\n",
        "    marginal_cost = 0\n",
        "\n",
        "    if demand > 0:\n",
        "        # Gas generation\n",
        "        if demand <= gas_capacity:\n",
        "            generation = demand\n",
        "            total_cost = gas_fixed + gas_variable * generation\n",
        "            marginal_cost = gas_variable\n",
        "            demand = 0\n",
        "        else:\n",
        "            generation += gas_capacity\n",
        "            total_cost += gas_fixed + gas_variable * gas_capacity\n",
        "            demand -= gas_capacity\n",
        "\n",
        "            # Oil generation\n",
        "            if demand <= oil_capacity:\n",
        "                generation += demand\n",
        "                total_cost += oil_fixed + oil_variable * demand\n",
        "                marginal_cost = oil_variable\n",
        "                demand = 0\n",
        "            else:\n",
        "                generation += oil_capacity\n",
        "                total_cost += oil_fixed + oil_variable * oil_capacity\n",
        "                demand -= oil_capacity\n",
        "                marginal_cost = voll  # Any remaining demand is unserved\n",
        "\n",
        "    return total_cost, generation, demand, marginal_cost\n",
        "\n",
        "\n"
      ],
      "metadata": {
        "id": "5bVMVLDZ2o1P"
      },
      "execution_count": null,
      "outputs": []
    },
    {
      "cell_type": "code",
      "source": [
        "# Example call to the function\n",
        "hourly_generation, average_price, hourly_marginal_price, hourly_unserved_demand = estimate_generation_costs_hourly(\n",
        "    demand_24h, capacity, capacity_factors_24h, costs, voll, storage_capacity, storage_cost)\n",
        "\n",
        "print(f\"Hourly Generation: {hourly_generation}\")\n",
        "print(f\"Average Price: ${average_price:.2f} per MWh\")\n",
        "print(f\"Hourly Marginal Price: {hourly_marginal_price}\")\n",
        "print(f\"Hourly Unserved Demand: {hourly_unserved_demand}\")\n"
      ],
      "metadata": {
        "id": "GgdWPaBlD9mW"
      },
      "execution_count": null,
      "outputs": []
    }
  ]
}